{
 "cells": [
  {
   "cell_type": "markdown",
   "metadata": {},
   "source": [
    "# Figure 2 - Sepsis manuscript"
   ]
  },
  {
   "cell_type": "markdown",
   "metadata": {},
   "source": [
    "This is a Jupyter notebook to generate Figure 2 in the sepsis manuscript"
   ]
  },
  {
   "cell_type": "markdown",
   "metadata": {},
   "source": [
    "First, we will setup the notebook requirements."
   ]
  },
  {
   "cell_type": "code",
   "execution_count": null,
   "metadata": {},
   "outputs": [],
   "source": [
    "%cd ../src\n",
    "%pwd\n",
    "%matplotlib inline\n",
    "%load_ext autoreload\n",
    "%autoreload 2"
   ]
  },
  {
   "cell_type": "markdown",
   "metadata": {},
   "source": [
    "Next, we will import all important libaries."
   ]
  },
  {
   "cell_type": "code",
   "execution_count": null,
   "metadata": {},
   "outputs": [],
   "source": [
    "# general imports\n",
    "import os\n",
    "import pandas as pd\n",
    "import matplotlib.pyplot as plt\n",
    "import string\n",
    "import datetime as dt\n",
    "\n",
    "# utils import\n",
    "from utils.files import get_latest_version\n",
    "from utils.cross_validation import cross_validate_ROC, cross_validate_risk_ROC, compare_models, cross_validate_calibration\n",
    "from utils.risk_scores import read_data_risk_score\n",
    "from xgboost2.cross_validate import read_data\n",
    "\n",
    "# xgboost\n",
    "from xgboost import XGBClassifier"
   ]
  },
  {
   "cell_type": "markdown",
   "metadata": {},
   "source": [
    "Then, we define the model version to use. \n",
    "This is version 20 for shock, and 22 for mortality."
   ]
  },
  {
   "cell_type": "code",
   "execution_count": null,
   "metadata": {},
   "outputs": [],
   "source": [
    "model_version_shock = 20\n",
    "model_version_mort = 22"
   ]
  },
  {
   "cell_type": "markdown",
   "metadata": {},
   "source": [
    "Now, lets start."
   ]
  },
  {
   "cell_type": "code",
   "execution_count": null,
   "metadata": {},
   "outputs": [],
   "source": [
    "modelslist = []\n",
    "scoreslist = []\n",
    "\n",
    "i = 0\n",
    "fig, ax = plt.subplots(ncols=3, figsize=(18, 6))\n",
    "    \n",
    "for model in [1,3]: #datasets 1 and 3\n",
    "    data_dict = read_data(model = model, \n",
    "                       out = 1, # shock\n",
    "                       version = model_version_shock)\n",
    "        \n",
    "    modelslist.append(['XGBoost', model, 1, # shock\n",
    "                        cross_validate_ROC(('XGBoost', XGBClassifier(), data_dict['features']), data_dict,\n",
    "                        kfolds=5, model_nr = model, output_nr = 1, ax=ax[i])])\n",
    "        \n",
    "    i += 1\n",
    "    \n",
    "compare_models(modelslist,\n",
    "               scoreslist,\n",
    "               risk_score=False, ax=ax[i])\n",
    "\n",
    "last_version = get_latest_version(os.path.join(os.getcwd(), '..',\n",
    "                                                  'figures', 'crossvalidation'))\n",
    "current_date = dt.datetime.now().strftime('%d %B %y')\n",
    "file_name = 'v{0:03d} - {1}.svg'.format(last_version + 1, current_date)\n",
    "plt.savefig(os.path.join(os.getcwd(), '..',\n",
    "                        'figures',\n",
    "                        'crossvalidation',\n",
    "                        file_name), format='svg', dpi=1200)\n",
    "plt.show()"
   ]
  },
  {
   "cell_type": "code",
   "execution_count": null,
   "metadata": {},
   "outputs": [],
   "source": [
    "modelslist = []\n",
    "scoreslist = []\n",
    "\n",
    "i = 0\n",
    "fig, ax = plt.subplots(ncols=3, figsize=(18, 6))\n",
    "    \n",
    "for model in [1,3]: #datasets 1 and 3\n",
    "    data_dict = read_data(model = model, \n",
    "                       out = 3, # mortality\n",
    "                       version = model_version_mort)\n",
    "        \n",
    "    modelslist.append(['XGBoost', model, 3, # mortality\n",
    "                        cross_validate_ROC(('XGBoost', XGBClassifier(), data_dict['features']), data_dict,\n",
    "                        kfolds=5, model_nr = model, output_nr = 3, save_fig=True, ax=ax[i])])\n",
    "        \n",
    "    i += 1\n",
    "    \n",
    "compare_models(modelslist,\n",
    "               scoreslist,\n",
    "               risk_score=True, ax=ax[i])\n",
    "\n",
    "last_version = get_latest_version(os.path.join(os.getcwd(), '..',\n",
    "                                                  'figures', 'crossvalidation'))\n",
    "current_date = dt.datetime.now().strftime('%d %B %y')\n",
    "file_name = 'v{0:03d} - {1}.svg'.format(last_version + 1, current_date)\n",
    "plt.savefig(os.path.join(os.getcwd(), '..',\n",
    "                        'figures',\n",
    "                        'crossvalidation',\n",
    "                        file_name), format='svg', dpi=1200)"
   ]
  },
  {
   "cell_type": "code",
   "execution_count": null,
   "metadata": {},
   "outputs": [],
   "source": [
    "modelslist = []\n",
    "scoreslist = []\n",
    "\n",
    "i = 0\n",
    "fig, ax = plt.subplots(ncols=3, figsize=(18, 6))\n",
    "    \n",
    "for model in [1,3]: #datasets 1 and 3\n",
    "    data_dict = read_data(model = model, \n",
    "                       out = 3, # mortality\n",
    "                       version = model_version_mort)\n",
    "        \n",
    "    modelslist.append(['XGBoost', model, 3, # mortality\n",
    "                        cross_validate_calibration(('XGBoost', XGBClassifier(), data_dict['features']), data_dict,\n",
    "                        kfolds=5, model_nr = model, output_nr = 3, save_fig=True, ax=ax[i])])\n",
    "        \n",
    "    i += 1"
   ]
  },
  {
   "cell_type": "code",
   "execution_count": null,
   "metadata": {},
   "outputs": [],
   "source": []
  }
 ],
 "metadata": {
  "kernelspec": {
   "display_name": "Python 3",
   "language": "python",
   "name": "python3"
  },
  "language_info": {
   "codemirror_mode": {
    "name": "ipython",
    "version": 3
   },
   "file_extension": ".py",
   "mimetype": "text/x-python",
   "name": "python",
   "nbconvert_exporter": "python",
   "pygments_lexer": "ipython3",
   "version": "3.7.3"
  }
 },
 "nbformat": 4,
 "nbformat_minor": 2
}
