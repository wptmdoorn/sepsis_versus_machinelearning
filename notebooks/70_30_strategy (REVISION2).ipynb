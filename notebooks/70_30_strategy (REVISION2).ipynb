{
 "cells": [
  {
   "cell_type": "markdown",
   "metadata": {},
   "source": [
    "# 70/30 strategy for model evaluation (revision 2)"
   ]
  },
  {
   "cell_type": "markdown",
   "metadata": {},
   "source": [
    "In this notebook we will carry out a 70/30 model evaluation for the second revision of\n",
    "our sepsis manuscript. We will do this for the laboratory and the laboratory + clinical model."
   ]
  },
  {
   "cell_type": "markdown",
   "metadata": {},
   "source": [
    "We will first setup the notebook."
   ]
  },
  {
   "cell_type": "code",
   "execution_count": null,
   "metadata": {},
   "outputs": [],
   "source": [
    "%cd ../src\n",
    "%pwd\n",
    "%matplotlib inline\n",
    "%load_ext autoreload\n",
    "%autoreload 2"
   ]
  },
  {
   "cell_type": "markdown",
   "metadata": {},
   "source": [
    "Import all important libraries"
   ]
  },
  {
   "cell_type": "code",
   "execution_count": null,
   "metadata": {},
   "outputs": [],
   "source": [
    "# general imports\n",
    "import os\n",
    "import pandas as pd\n",
    "import matplotlib.pyplot as plt\n",
    "import string\n",
    "import datetime as dt\n",
    "\n",
    "# utils import\n",
    "from utils.files import get_latest_version\n",
    "from utils.cross_validation import cross_validate_ROC, cross_validate_risk_ROC, compare_models, cross_validate_calibration\n",
    "from utils.risk_scores import read_data_risk_score\n",
    "from xgboost.cross_validate import read_data\n",
    "\n",
    "# xgboost\n",
    "from xgboost import XGBClassifier\n",
    "\n",
    "# sklearn\n",
    "from sklearn.model_selection import train_test_split\n",
    "from sklearn.metrics import roc_auc_score, roc_curve, auc"
   ]
  },
  {
   "cell_type": "markdown",
   "metadata": {},
   "source": [
    "Then, we define the model version to use. \n",
    "This is version 20 for shock, and 22 for mortality."
   ]
  },
  {
   "cell_type": "code",
   "execution_count": null,
   "metadata": {},
   "outputs": [],
   "source": [
    "model_version_shock = 20\n",
    "model_version_mort = 22"
   ]
  },
  {
   "cell_type": "markdown",
   "metadata": {},
   "source": [
    "Next, we will read all the data."
   ]
  },
  {
   "cell_type": "code",
   "execution_count": null,
   "metadata": {},
   "outputs": [],
   "source": [
    "data_dict_lab = read_data(model = 1, \n",
    "                          out = 3, # shock\n",
    "                          version = model_version_mort)\n",
    "\n",
    "data_dict_lab_clinical = read_data(model = 3, \n",
    "                                   out = 3, # shock\n",
    "                                   version = model_version_mort)"
   ]
  },
  {
   "cell_type": "markdown",
   "metadata": {},
   "source": [
    "Perform a 70/30 split for both datasets"
   ]
  },
  {
   "cell_type": "code",
   "execution_count": null,
   "metadata": {},
   "outputs": [],
   "source": [
    "train_lab_x, test_lab_x, train_lab_y, test_lab_y = train_test_split(\n",
    "    data_dict_lab['x'], data_dict_lab['y'],  test_size=0.3, random_state=1106)\n",
    "\n",
    "train_clin_x, test_clin_x, train_clin_y, test_clin_y = train_test_split(\n",
    "    data_dict_lab_clinical['x'], data_dict_lab_clinical['y'],  test_size=0.3, random_state=1106)"
   ]
  },
  {
   "cell_type": "markdown",
   "metadata": {},
   "source": [
    "Train the laboratory and clinical model"
   ]
  },
  {
   "cell_type": "code",
   "execution_count": null,
   "metadata": {},
   "outputs": [],
   "source": [
    "lab_model = XGBClassifier()\n",
    "eval_set = [(train_lab_x, train_lab_y), (test_lab_x, test_lab_y)]\n",
    "lab_model.fit(train_lab_x, train_lab_y, \n",
    "              #eval_metric=[\"logloss\"], eval_set=eval_set, early_stopping_rounds=5,\n",
    "              verbose=False)\n",
    "\n",
    "clin_model = XGBClassifier()\n",
    "eval_set = [(train_clin_x, train_clin_y), (test_clin_x, test_clin_y)]\n",
    "clin_model.fit(train_clin_x, train_clin_y, \n",
    "              #eval_metric=[\"logloss\"], eval_set=eval_set, early_stopping_rounds=5,\n",
    "              verbose=False)"
   ]
  },
  {
   "cell_type": "markdown",
   "metadata": {},
   "source": [
    "Plot a ROC curve for the laboratory model"
   ]
  },
  {
   "cell_type": "code",
   "execution_count": null,
   "metadata": {},
   "outputs": [],
   "source": [
    "fpr, tpr, thresholds = roc_curve(test_lab_y, lab_model.predict_proba(test_lab_x)[:,1])\n",
    "#tprs[-1][0] = 0.0\n",
    "roc_auc = auc(fpr, tpr)\n",
    "\n",
    "# Points\n",
    "plt.plot(fpr, tpr, lw=1, alpha=0.3,\n",
    "         label='AUC = %0.2f' % (roc_auc))\n",
    "\n",
    "# Reference line\n",
    "plt.plot([0, 1], [0, 1], linestyle='--', lw=2, color='r',\n",
    "                 label='Chance', alpha=.8)\n",
    "\n",
    "plt.xlim([0, 1])\n",
    "plt.ylim([0, 1])\n",
    "plt.xlabel('1 - specificity', fontsize=12)\n",
    "plt.ylabel('Sensitivity', fontsize=12)\n",
    "plt.legend(loc=\"lower right\",\n",
    "           frameon=True,\n",
    "           fontsize=8)\n",
    "plt.grid(linestyle=':')\n",
    "plt.gca().spines['top'].set_visible(False)\n",
    "plt.gca().spines['right'].set_visible(False)\n",
    "plt.savefig('lab.png')"
   ]
  },
  {
   "cell_type": "markdown",
   "metadata": {},
   "source": [
    "Plot a ROC curve for the clinical model"
   ]
  },
  {
   "cell_type": "code",
   "execution_count": null,
   "metadata": {},
   "outputs": [],
   "source": [
    "fpr, tpr, thresholds = roc_curve(test_clin_y, clin_model.predict_proba(test_clin_x)[:,1])\n",
    "#tprs[-1][0] = 0.0\n",
    "roc_auc = auc(fpr, tpr)\n",
    "\n",
    "# Points\n",
    "plt.plot(fpr, tpr, lw=1, alpha=0.3,\n",
    "         label='AUC = %0.2f' % (roc_auc))\n",
    "\n",
    "# Reference line\n",
    "plt.plot([0, 1], [0, 1], linestyle='--', lw=2, color='r',\n",
    "                 label='Chance', alpha=.8)\n",
    "\n",
    "plt.xlim([0, 1])\n",
    "plt.ylim([0, 1])\n",
    "plt.xlabel('1 - specificity', fontsize=12)\n",
    "plt.ylabel('Sensitivity', fontsize=12)\n",
    "plt.legend(loc=\"lower right\",\n",
    "           frameon=True,\n",
    "           fontsize=8)\n",
    "plt.grid(linestyle=':')\n",
    "plt.gca().spines['top'].set_visible(False)\n",
    "plt.gca().spines['right'].set_visible(False)\n",
    "plt.savefig('clinical.png')"
   ]
  },
  {
   "cell_type": "code",
   "execution_count": null,
   "metadata": {},
   "outputs": [],
   "source": []
  }
 ],
 "metadata": {
  "kernelspec": {
   "display_name": "Python 3",
   "language": "python",
   "name": "python3"
  },
  "language_info": {
   "codemirror_mode": {
    "name": "ipython",
    "version": 3
   },
   "file_extension": ".py",
   "mimetype": "text/x-python",
   "name": "python",
   "nbconvert_exporter": "python",
   "pygments_lexer": "ipython3",
   "version": "3.7.3"
  }
 },
 "nbformat": 4,
 "nbformat_minor": 2
}
